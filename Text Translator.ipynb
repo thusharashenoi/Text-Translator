{
 "cells": [
  {
   "cell_type": "code",
   "execution_count": 1,
   "id": "15587555",
   "metadata": {},
   "outputs": [
    {
     "name": "stdout",
     "output_type": "stream",
     "text": [
      "Collecting translate\n",
      "  Downloading translate-3.6.1-py2.py3-none-any.whl (12 kB)\n",
      "Requirement already satisfied: click in /opt/anaconda3/lib/python3.9/site-packages (from translate) (8.1.3)\n",
      "Requirement already satisfied: lxml in /opt/anaconda3/lib/python3.9/site-packages (from translate) (4.9.3)\n",
      "Requirement already satisfied: requests in /opt/anaconda3/lib/python3.9/site-packages (from translate) (2.27.1)\n",
      "Collecting libretranslatepy==2.1.1 (from translate)\n",
      "  Downloading libretranslatepy-2.1.1-py3-none-any.whl (3.2 kB)\n",
      "Requirement already satisfied: urllib3<1.27,>=1.21.1 in /opt/anaconda3/lib/python3.9/site-packages (from requests->translate) (1.26.16)\n",
      "Requirement already satisfied: certifi>=2017.4.17 in /opt/anaconda3/lib/python3.9/site-packages (from requests->translate) (2021.10.8)\n",
      "Requirement already satisfied: charset-normalizer~=2.0.0 in /opt/anaconda3/lib/python3.9/site-packages (from requests->translate) (2.0.4)\n",
      "Requirement already satisfied: idna<4,>=2.5 in /opt/anaconda3/lib/python3.9/site-packages (from requests->translate) (3.3)\n",
      "\u001b[33mDEPRECATION: omegaconf 2.0.6 has a non-standard dependency specifier PyYAML>=5.1.*. pip 23.3 will enforce this behaviour change. A possible replacement is to upgrade to a newer version of omegaconf or contact the author to suggest that they release a version with a conforming dependency specifiers. Discussion can be found at https://github.com/pypa/pip/issues/12063\u001b[0m\u001b[33m\n",
      "\u001b[0m\u001b[33mDEPRECATION: torchsde 0.2.5 has a non-standard dependency specifier numpy>=1.19.*; python_version >= \"3.7\". pip 23.3 will enforce this behaviour change. A possible replacement is to upgrade to a newer version of torchsde or contact the author to suggest that they release a version with a conforming dependency specifiers. Discussion can be found at https://github.com/pypa/pip/issues/12063\u001b[0m\u001b[33m\n",
      "\u001b[0mInstalling collected packages: libretranslatepy, translate\n",
      "Successfully installed libretranslatepy-2.1.1 translate-3.6.1\n",
      "\n",
      "\u001b[1m[\u001b[0m\u001b[34;49mnotice\u001b[0m\u001b[1;39;49m]\u001b[0m\u001b[39;49m A new release of pip is available: \u001b[0m\u001b[31;49m23.2.1\u001b[0m\u001b[39;49m -> \u001b[0m\u001b[32;49m23.3.1\u001b[0m\n",
      "\u001b[1m[\u001b[0m\u001b[34;49mnotice\u001b[0m\u001b[1;39;49m]\u001b[0m\u001b[39;49m To update, run: \u001b[0m\u001b[32;49mpip install --upgrade pip\u001b[0m\n"
     ]
    }
   ],
   "source": [
    "!pip install translate\n"
   ]
  },
  {
   "cell_type": "code",
   "execution_count": 6,
   "id": "13821d80",
   "metadata": {},
   "outputs": [
    {
     "name": "stdout",
     "output_type": "stream",
     "text": [
      "Original Text: Hola amiga\n",
      "Translated Text (hi): होला अमीगा\n"
     ]
    }
   ],
   "source": [
    "from translate import Translator\n",
    "\n",
    "def translate_text(text, target_language='en'):\n",
    "    translator= Translator(to_lang=target_language)\n",
    "    translation = translator.translate(text)\n",
    "\n",
    "    print(f\"Original Text: {text}\")\n",
    "    print(f\"Translated Text ({target_language}): {translation}\")\n",
    "\n",
    "if __name__ == \"__main__\":\n",
    "    text_to_translate = \"Hola amiga\"\n",
    "    target_language = 'hi'  # Target language code (e.g., 'es' for Spanish)\n",
    "\n",
    "    translate_text(text_to_translate, target_language)\n"
   ]
  },
  {
   "cell_type": "code",
   "execution_count": 13,
   "id": "ad35bb87",
   "metadata": {},
   "outputs": [
    {
     "name": "stdout",
     "output_type": "stream",
     "text": [
      "Original Text: cómo está hoy\n",
      "Translated Text (es): cómo está hoy\n"
     ]
    }
   ],
   "source": [
    "from translate import Translator\n",
    "\n",
    "def translate_text(text, target_language='es'):\n",
    "    translator= Translator(to_lang=target_language)\n",
    "    translation = translator.translate(text)\n",
    "\n",
    "    print(f\"Original Text: {text}\")\n",
    "    print(f\"Translated Text ({target_language}): {translation}\")\n",
    "\n",
    "if __name__ == \"__main__\":\n",
    "    text_to_translate = \"cómo está hoy\"\n",
    "    target_language = 'es'  # Target language code (e.g., 'es' for Spanish)\n",
    "\n",
    "    translate_text(text_to_translate, target_language)\n"
   ]
  },
  {
   "cell_type": "code",
   "execution_count": null,
   "id": "780ef872",
   "metadata": {},
   "outputs": [],
   "source": []
  }
 ],
 "metadata": {
  "kernelspec": {
   "display_name": "Python 3 (ipykernel)",
   "language": "python",
   "name": "python3"
  },
  "language_info": {
   "codemirror_mode": {
    "name": "ipython",
    "version": 3
   },
   "file_extension": ".py",
   "mimetype": "text/x-python",
   "name": "python",
   "nbconvert_exporter": "python",
   "pygments_lexer": "ipython3",
   "version": "3.9.12"
  }
 },
 "nbformat": 4,
 "nbformat_minor": 5
}
